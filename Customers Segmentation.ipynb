{
 "cells": [
  {
   "cell_type": "markdown",
   "id": "a84dbee3",
   "metadata": {},
   "source": [
    "#           Importing libraries for performing EDA."
   ]
  },
  {
   "cell_type": "code",
   "execution_count": 1,
   "id": "5b018a20",
   "metadata": {},
   "outputs": [],
   "source": [
    "import pandas as pd\n",
    "import matplotlib.pyplot as plt\n",
    "import seaborn as sns\n",
    "import numpy as np\n",
    "%matplotlib inline\n",
    "import warnings\n",
    "warnings.filterwarnings('ignore')"
   ]
  },
  {
   "cell_type": "code",
   "execution_count": 3,
   "id": "305e4b5c",
   "metadata": {},
   "outputs": [],
   "source": [
    "a1=pd.read_csv('cust_segmentation_Data.csv')"
   ]
  },
  {
   "cell_type": "code",
   "execution_count": 4,
   "id": "9da2af98",
   "metadata": {},
   "outputs": [
    {
     "data": {
      "text/html": [
       "<div>\n",
       "<style scoped>\n",
       "    .dataframe tbody tr th:only-of-type {\n",
       "        vertical-align: middle;\n",
       "    }\n",
       "\n",
       "    .dataframe tbody tr th {\n",
       "        vertical-align: top;\n",
       "    }\n",
       "\n",
       "    .dataframe thead th {\n",
       "        text-align: right;\n",
       "    }\n",
       "</style>\n",
       "<table border=\"1\" class=\"dataframe\">\n",
       "  <thead>\n",
       "    <tr style=\"text-align: right;\">\n",
       "      <th></th>\n",
       "      <th>Customer Id</th>\n",
       "      <th>Age</th>\n",
       "      <th>Edu</th>\n",
       "      <th>Years Employed</th>\n",
       "      <th>Income</th>\n",
       "      <th>Card Debt</th>\n",
       "      <th>Other Debt</th>\n",
       "      <th>Defaulted</th>\n",
       "      <th>DebtIncomeRatio</th>\n",
       "    </tr>\n",
       "  </thead>\n",
       "  <tbody>\n",
       "    <tr>\n",
       "      <th>0</th>\n",
       "      <td>1</td>\n",
       "      <td>41</td>\n",
       "      <td>2</td>\n",
       "      <td>6</td>\n",
       "      <td>19</td>\n",
       "      <td>0.124</td>\n",
       "      <td>1.073</td>\n",
       "      <td>0.0</td>\n",
       "      <td>6.3</td>\n",
       "    </tr>\n",
       "    <tr>\n",
       "      <th>1</th>\n",
       "      <td>2</td>\n",
       "      <td>47</td>\n",
       "      <td>1</td>\n",
       "      <td>26</td>\n",
       "      <td>100</td>\n",
       "      <td>4.582</td>\n",
       "      <td>8.218</td>\n",
       "      <td>0.0</td>\n",
       "      <td>12.8</td>\n",
       "    </tr>\n",
       "    <tr>\n",
       "      <th>2</th>\n",
       "      <td>3</td>\n",
       "      <td>33</td>\n",
       "      <td>2</td>\n",
       "      <td>10</td>\n",
       "      <td>57</td>\n",
       "      <td>6.111</td>\n",
       "      <td>5.802</td>\n",
       "      <td>1.0</td>\n",
       "      <td>20.9</td>\n",
       "    </tr>\n",
       "    <tr>\n",
       "      <th>3</th>\n",
       "      <td>4</td>\n",
       "      <td>29</td>\n",
       "      <td>2</td>\n",
       "      <td>4</td>\n",
       "      <td>19</td>\n",
       "      <td>0.681</td>\n",
       "      <td>0.516</td>\n",
       "      <td>0.0</td>\n",
       "      <td>6.3</td>\n",
       "    </tr>\n",
       "    <tr>\n",
       "      <th>4</th>\n",
       "      <td>5</td>\n",
       "      <td>47</td>\n",
       "      <td>1</td>\n",
       "      <td>31</td>\n",
       "      <td>253</td>\n",
       "      <td>9.308</td>\n",
       "      <td>8.908</td>\n",
       "      <td>0.0</td>\n",
       "      <td>7.2</td>\n",
       "    </tr>\n",
       "  </tbody>\n",
       "</table>\n",
       "</div>"
      ],
      "text/plain": [
       "   Customer Id  Age  Edu  Years Employed  Income  Card Debt  Other Debt  \\\n",
       "0            1   41    2               6      19      0.124       1.073   \n",
       "1            2   47    1              26     100      4.582       8.218   \n",
       "2            3   33    2              10      57      6.111       5.802   \n",
       "3            4   29    2               4      19      0.681       0.516   \n",
       "4            5   47    1              31     253      9.308       8.908   \n",
       "\n",
       "   Defaulted  DebtIncomeRatio  \n",
       "0        0.0              6.3  \n",
       "1        0.0             12.8  \n",
       "2        1.0             20.9  \n",
       "3        0.0              6.3  \n",
       "4        0.0              7.2  "
      ]
     },
     "execution_count": 4,
     "metadata": {},
     "output_type": "execute_result"
    }
   ],
   "source": [
    "a1.head()"
   ]
  },
  {
   "cell_type": "code",
   "execution_count": 5,
   "id": "284f63d0",
   "metadata": {},
   "outputs": [],
   "source": [
    "a1.drop(columns=['Customer Id'],inplace=True)"
   ]
  },
  {
   "cell_type": "code",
   "execution_count": 6,
   "id": "c381cacb",
   "metadata": {},
   "outputs": [
    {
     "data": {
      "text/plain": [
       "(850, 8)"
      ]
     },
     "execution_count": 6,
     "metadata": {},
     "output_type": "execute_result"
    }
   ],
   "source": [
    "a1.shape"
   ]
  },
  {
   "cell_type": "code",
   "execution_count": 7,
   "id": "79ffab66",
   "metadata": {},
   "outputs": [
    {
     "name": "stdout",
     "output_type": "stream",
     "text": [
      "<class 'pandas.core.frame.DataFrame'>\n",
      "RangeIndex: 850 entries, 0 to 849\n",
      "Data columns (total 8 columns):\n",
      " #   Column           Non-Null Count  Dtype  \n",
      "---  ------           --------------  -----  \n",
      " 0   Age              850 non-null    int64  \n",
      " 1   Edu              850 non-null    int64  \n",
      " 2   Years Employed   850 non-null    int64  \n",
      " 3   Income           850 non-null    int64  \n",
      " 4   Card Debt        850 non-null    float64\n",
      " 5   Other Debt       850 non-null    float64\n",
      " 6   Defaulted        700 non-null    float64\n",
      " 7   DebtIncomeRatio  850 non-null    float64\n",
      "dtypes: float64(4), int64(4)\n",
      "memory usage: 53.2 KB\n"
     ]
    }
   ],
   "source": [
    "a1.info()"
   ]
  },
  {
   "cell_type": "code",
   "execution_count": 8,
   "id": "d9cf62ab",
   "metadata": {},
   "outputs": [
    {
     "data": {
      "text/plain": [
       "Age                  0\n",
       "Edu                  0\n",
       "Years Employed       0\n",
       "Income               0\n",
       "Card Debt            0\n",
       "Other Debt           0\n",
       "Defaulted          150\n",
       "DebtIncomeRatio      0\n",
       "dtype: int64"
      ]
     },
     "execution_count": 8,
     "metadata": {},
     "output_type": "execute_result"
    }
   ],
   "source": [
    "a1.isnull().sum()"
   ]
  },
  {
   "cell_type": "markdown",
   "id": "56f0fe43",
   "metadata": {},
   "source": [
    "#             Data Visualization:Graphs"
   ]
  },
  {
   "cell_type": "code",
   "execution_count": 9,
   "id": "913949ff",
   "metadata": {},
   "outputs": [
    {
     "data": {
      "image/png": "[encoded data removed]",
      "text/plain": [
       "<Figure size 640x480 with 1 Axes>"
      ]
     },
     "metadata": {},
     "output_type": "display_data"
    }
   ],
   "source": [
    "sns.countplot(x='Defaulted',data=a1)\n",
    "plt.show()"
   ]
  },
  {
   "cell_type": "code",
   "execution_count": 10,
   "id": "97836ad9",
   "metadata": {},
   "outputs": [
    {
     "data": {
      "image/png": "[encoded data removed]",
      "text/plain": [
       "<Figure size 640x480 with 1 Axes>"
      ]
     },
     "metadata": {},
     "output_type": "display_data"
    }
   ],
   "source": [
    "sns.barplot(x='Defaulted',y ='Age',data=a1)\n",
    "plt.show()"
   ]
  },
  {
   "cell_type": "code",
   "execution_count": 11,
   "id": "718d112c",
   "metadata": {},
   "outputs": [
    {
     "data": {
      "image/png": "[encoded data removed]",
      "text/plain": [
       "<Figure size 640x480 with 1 Axes>"
      ]
     },
     "metadata": {},
     "output_type": "display_data"
    }
   ],
   "source": [
    "sns.barplot(x='Defaulted',y='Years Employed',data=a1)\n",
    "plt.show()"
   ]
  },
  {
   "cell_type": "code",
   "execution_count": 12,
   "id": "3dad253c",
   "metadata": {},
   "outputs": [
    {
     "data": {
      "image/png": "[encoded data removed]",
      "text/plain": [
       "<Figure size 640x480 with 1 Axes>"
      ]
     },
     "metadata": {},
     "output_type": "display_data"
    }
   ],
   "source": [
    "sns.barplot(x='Defaulted',y='Income',data=a1)\n",
    "plt.show()"
   ]
  },
  {
   "cell_type": "code",
   "execution_count": 13,
   "id": "96fc9e10",
   "metadata": {},
   "outputs": [
    {
     "data": {
      "image/png": "[encoded data removed]",
      "text/plain": [
       "<Figure size 640x480 with 1 Axes>"
      ]
     },
     "metadata": {},
     "output_type": "display_data"
    }
   ],
   "source": [
    "sns.barplot(x='Defaulted',y='Card Debt',data=a1)\n",
    "plt.show()"
   ]
  },
  {
   "cell_type": "code",
   "execution_count": 14,
   "id": "4332008d",
   "metadata": {},
   "outputs": [
    {
     "data": {
      "image/png": "[encoded data removed]",
      "text/plain": [
       "<Figure size 640x480 with 1 Axes>"
      ]
     },
     "metadata": {},
     "output_type": "display_data"
    }
   ],
   "source": [
    "sns.barplot(x='Defaulted',y='Other Debt',data=a1)\n",
    "plt.show()"
   ]
  },
  {
   "cell_type": "code",
   "execution_count": 15,
   "id": "1147e95e",
   "metadata": {},
   "outputs": [
    {
     "data": {
      "image/png": "[encoded data removed]",
      "text/plain": [
       "<Figure size 640x480 with 1 Axes>"
      ]
     },
     "metadata": {},
     "output_type": "display_data"
    }
   ],
   "source": [
    "sns.barplot(x='Defaulted',y='DebtIncomeRatio',data=a1)\n",
    "plt.show()"
   ]
  },
  {
   "cell_type": "code",
   "execution_count": 16,
   "id": "08e3e06a",
   "metadata": {},
   "outputs": [
    {
     "data": {
      "text/html": [
       "<div>\n",
       "<style scoped>\n",
       "    .dataframe tbody tr th:only-of-type {\n",
       "        vertical-align: middle;\n",
       "    }\n",
       "\n",
       "    .dataframe tbody tr th {\n",
       "        vertical-align: top;\n",
       "    }\n",
       "\n",
       "    .dataframe thead th {\n",
       "        text-align: right;\n",
       "    }\n",
       "</style>\n",
       "<table border=\"1\" class=\"dataframe\">\n",
       "  <thead>\n",
       "    <tr style=\"text-align: right;\">\n",
       "      <th></th>\n",
       "      <th>Age</th>\n",
       "      <th>Edu</th>\n",
       "      <th>Years Employed</th>\n",
       "      <th>Income</th>\n",
       "      <th>Card Debt</th>\n",
       "      <th>Other Debt</th>\n",
       "      <th>Defaulted</th>\n",
       "      <th>DebtIncomeRatio</th>\n",
       "    </tr>\n",
       "  </thead>\n",
       "  <tbody>\n",
       "    <tr>\n",
       "      <th>count</th>\n",
       "      <td>850.000000</td>\n",
       "      <td>850.000000</td>\n",
       "      <td>850.000000</td>\n",
       "      <td>850.000000</td>\n",
       "      <td>850.000000</td>\n",
       "      <td>850.000000</td>\n",
       "      <td>700.000000</td>\n",
       "      <td>850.000000</td>\n",
       "    </tr>\n",
       "    <tr>\n",
       "      <th>mean</th>\n",
       "      <td>35.029412</td>\n",
       "      <td>1.710588</td>\n",
       "      <td>8.565882</td>\n",
       "      <td>46.675294</td>\n",
       "      <td>1.576820</td>\n",
       "      <td>3.078773</td>\n",
       "      <td>0.261429</td>\n",
       "      <td>10.171647</td>\n",
       "    </tr>\n",
       "    <tr>\n",
       "      <th>std</th>\n",
       "      <td>8.041432</td>\n",
       "      <td>0.927784</td>\n",
       "      <td>6.777884</td>\n",
       "      <td>38.543054</td>\n",
       "      <td>2.125843</td>\n",
       "      <td>3.398799</td>\n",
       "      <td>0.439727</td>\n",
       "      <td>6.719441</td>\n",
       "    </tr>\n",
       "    <tr>\n",
       "      <th>min</th>\n",
       "      <td>20.000000</td>\n",
       "      <td>1.000000</td>\n",
       "      <td>0.000000</td>\n",
       "      <td>13.000000</td>\n",
       "      <td>0.012000</td>\n",
       "      <td>0.046000</td>\n",
       "      <td>0.000000</td>\n",
       "      <td>0.100000</td>\n",
       "    </tr>\n",
       "    <tr>\n",
       "      <th>25%</th>\n",
       "      <td>29.000000</td>\n",
       "      <td>1.000000</td>\n",
       "      <td>3.000000</td>\n",
       "      <td>24.000000</td>\n",
       "      <td>0.382500</td>\n",
       "      <td>1.045750</td>\n",
       "      <td>0.000000</td>\n",
       "      <td>5.100000</td>\n",
       "    </tr>\n",
       "    <tr>\n",
       "      <th>50%</th>\n",
       "      <td>34.000000</td>\n",
       "      <td>1.000000</td>\n",
       "      <td>7.000000</td>\n",
       "      <td>35.000000</td>\n",
       "      <td>0.885000</td>\n",
       "      <td>2.003000</td>\n",
       "      <td>0.000000</td>\n",
       "      <td>8.700000</td>\n",
       "    </tr>\n",
       "    <tr>\n",
       "      <th>75%</th>\n",
       "      <td>41.000000</td>\n",
       "      <td>2.000000</td>\n",
       "      <td>13.000000</td>\n",
       "      <td>55.750000</td>\n",
       "      <td>1.898500</td>\n",
       "      <td>3.903250</td>\n",
       "      <td>1.000000</td>\n",
       "      <td>13.800000</td>\n",
       "    </tr>\n",
       "    <tr>\n",
       "      <th>max</th>\n",
       "      <td>56.000000</td>\n",
       "      <td>5.000000</td>\n",
       "      <td>33.000000</td>\n",
       "      <td>446.000000</td>\n",
       "      <td>20.561000</td>\n",
       "      <td>35.197000</td>\n",
       "      <td>1.000000</td>\n",
       "      <td>41.300000</td>\n",
       "    </tr>\n",
       "  </tbody>\n",
       "</table>\n",
       "</div>"
      ],
      "text/plain": [
       "              Age         Edu  Years Employed      Income   Card Debt  \\\n",
       "count  850.000000  850.000000      850.000000  850.000000  850.000000   \n",
       "mean    35.029412    1.710588        8.565882   46.675294    1.576820   \n",
       "std      8.041432    0.927784        6.777884   38.543054    2.125843   \n",
       "min     20.000000    1.000000        0.000000   13.000000    0.012000   \n",
       "25%     29.000000    1.000000        3.000000   24.000000    0.382500   \n",
       "50%     34.000000    1.000000        7.000000   35.000000    0.885000   \n",
       "75%     41.000000    2.000000       13.000000   55.750000    1.898500   \n",
       "max     56.000000    5.000000       33.000000  446.000000   20.561000   \n",
       "\n",
       "       Other Debt   Defaulted  DebtIncomeRatio  \n",
       "count  850.000000  700.000000       850.000000  \n",
       "mean     3.078773    0.261429        10.171647  \n",
       "std      3.398799    0.439727         6.719441  \n",
       "min      0.046000    0.000000         0.100000  \n",
       "25%      1.045750    0.000000         5.100000  \n",
       "50%      2.003000    0.000000         8.700000  \n",
       "75%      3.903250    1.000000        13.800000  \n",
       "max     35.197000    1.000000        41.300000  "
      ]
     },
     "execution_count": 16,
     "metadata": {},
     "output_type": "execute_result"
    }
   ],
   "source": [
    "a1.describe()"
   ]
  },
  {
   "cell_type": "code",
   "execution_count": 17,
   "id": "8dfdf499",
   "metadata": {},
   "outputs": [
    {
     "data": {
      "text/html": [
       "<div>\n",
       "<style scoped>\n",
       "    .dataframe tbody tr th:only-of-type {\n",
       "        vertical-align: middle;\n",
       "    }\n",
       "\n",
       "    .dataframe tbody tr th {\n",
       "        vertical-align: top;\n",
       "    }\n",
       "\n",
       "    .dataframe thead th {\n",
       "        text-align: right;\n",
       "    }\n",
       "</style>\n",
       "<table border=\"1\" class=\"dataframe\">\n",
       "  <thead>\n",
       "    <tr style=\"text-align: right;\">\n",
       "      <th></th>\n",
       "      <th>Age</th>\n",
       "      <th>Edu</th>\n",
       "      <th>Years Employed</th>\n",
       "      <th>Income</th>\n",
       "      <th>Card Debt</th>\n",
       "      <th>Other Debt</th>\n",
       "      <th>Defaulted</th>\n",
       "      <th>DebtIncomeRatio</th>\n",
       "    </tr>\n",
       "  </thead>\n",
       "  <tbody>\n",
       "    <tr>\n",
       "      <th>Age</th>\n",
       "      <td>1.000000</td>\n",
       "      <td>0.012983</td>\n",
       "      <td>0.554241</td>\n",
       "      <td>0.476218</td>\n",
       "      <td>0.278912</td>\n",
       "      <td>0.337839</td>\n",
       "      <td>-0.137657</td>\n",
       "      <td>0.008240</td>\n",
       "    </tr>\n",
       "    <tr>\n",
       "      <th>Edu</th>\n",
       "      <td>0.012983</td>\n",
       "      <td>1.000000</td>\n",
       "      <td>-0.151117</td>\n",
       "      <td>0.218219</td>\n",
       "      <td>0.099081</td>\n",
       "      <td>0.140938</td>\n",
       "      <td>0.114676</td>\n",
       "      <td>0.008053</td>\n",
       "    </tr>\n",
       "    <tr>\n",
       "      <th>Years Employed</th>\n",
       "      <td>0.554241</td>\n",
       "      <td>-0.151117</td>\n",
       "      <td>1.000000</td>\n",
       "      <td>0.625093</td>\n",
       "      <td>0.381744</td>\n",
       "      <td>0.414430</td>\n",
       "      <td>-0.282978</td>\n",
       "      <td>-0.033625</td>\n",
       "    </tr>\n",
       "    <tr>\n",
       "      <th>Income</th>\n",
       "      <td>0.476218</td>\n",
       "      <td>0.218219</td>\n",
       "      <td>0.625093</td>\n",
       "      <td>1.000000</td>\n",
       "      <td>0.551510</td>\n",
       "      <td>0.603356</td>\n",
       "      <td>-0.070970</td>\n",
       "      <td>-0.035585</td>\n",
       "    </tr>\n",
       "    <tr>\n",
       "      <th>Card Debt</th>\n",
       "      <td>0.278912</td>\n",
       "      <td>0.099081</td>\n",
       "      <td>0.381744</td>\n",
       "      <td>0.551510</td>\n",
       "      <td>1.000000</td>\n",
       "      <td>0.644955</td>\n",
       "      <td>0.244734</td>\n",
       "      <td>0.514971</td>\n",
       "    </tr>\n",
       "    <tr>\n",
       "      <th>Other Debt</th>\n",
       "      <td>0.337839</td>\n",
       "      <td>0.140938</td>\n",
       "      <td>0.414430</td>\n",
       "      <td>0.603356</td>\n",
       "      <td>0.644955</td>\n",
       "      <td>1.000000</td>\n",
       "      <td>0.145716</td>\n",
       "      <td>0.572545</td>\n",
       "    </tr>\n",
       "    <tr>\n",
       "      <th>Defaulted</th>\n",
       "      <td>-0.137657</td>\n",
       "      <td>0.114676</td>\n",
       "      <td>-0.282978</td>\n",
       "      <td>-0.070970</td>\n",
       "      <td>0.244734</td>\n",
       "      <td>0.145716</td>\n",
       "      <td>1.000000</td>\n",
       "      <td>0.389575</td>\n",
       "    </tr>\n",
       "    <tr>\n",
       "      <th>DebtIncomeRatio</th>\n",
       "      <td>0.008240</td>\n",
       "      <td>0.008053</td>\n",
       "      <td>-0.033625</td>\n",
       "      <td>-0.035585</td>\n",
       "      <td>0.514971</td>\n",
       "      <td>0.572545</td>\n",
       "      <td>0.389575</td>\n",
       "      <td>1.000000</td>\n",
       "    </tr>\n",
       "  </tbody>\n",
       "</table>\n",
       "</div>"
      ],
      "text/plain": [
       "                      Age       Edu  Years Employed    Income  Card Debt  \\\n",
       "Age              1.000000  0.012983        0.554241  0.476218   0.278912   \n",
       "Edu              0.012983  1.000000       -0.151117  0.218219   0.099081   \n",
       "Years Employed   0.554241 -0.151117        1.000000  0.625093   0.381744   \n",
       "Income           0.476218  0.218219        0.625093  1.000000   0.551510   \n",
       "Card Debt        0.278912  0.099081        0.381744  0.551510   1.000000   \n",
       "Other Debt       0.337839  0.140938        0.414430  0.603356   0.644955   \n",
       "Defaulted       -0.137657  0.114676       -0.282978 -0.070970   0.244734   \n",
       "DebtIncomeRatio  0.008240  0.008053       -0.033625 -0.035585   0.514971   \n",
       "\n",
       "                 Other Debt  Defaulted  DebtIncomeRatio  \n",
       "Age                0.337839  -0.137657         0.008240  \n",
       "Edu                0.140938   0.114676         0.008053  \n",
       "Years Employed     0.414430  -0.282978        -0.033625  \n",
       "Income             0.603356  -0.070970        -0.035585  \n",
       "Card Debt          0.644955   0.244734         0.514971  \n",
       "Other Debt         1.000000   0.145716         0.572545  \n",
       "Defaulted          0.145716   1.000000         0.389575  \n",
       "DebtIncomeRatio    0.572545   0.389575         1.000000  "
      ]
     },
     "execution_count": 17,
     "metadata": {},
     "output_type": "execute_result"
    }
   ],
   "source": [
    "a1.corr()"
   ]
  },
  {
   "cell_type": "code",
   "execution_count": 18,
   "id": "d9a28e0d",
   "metadata": {},
   "outputs": [
    {
     "data": {
      "image/png": "[encoded data removed]",
      "text/plain": [
       "<Figure size 1500x800 with 2 Axes>"
      ]
     },
     "metadata": {},
     "output_type": "display_data"
    }
   ],
   "source": [
    "plt.figure(figsize=(15,8))\n",
    "sns.heatmap(a1.corr(),annot=True)\n",
    "plt.show()"
   ]
  },
  {
   "cell_type": "markdown",
   "id": "956dbb32",
   "metadata": {},
   "source": [
    "# Graph and it's conclusion\n",
    "\n",
    "1)In the given data the defaulters are less in number.\n",
    "\n",
    "2)Age does not affect the defaulters.\n",
    "\n",
    "3)Years of employment affect the defaulter in inverse proportion,if years of employment is less then there is more chance of being a defaulter.\n",
    "\n",
    "4)Income also does not show great variation to defaulters.\n",
    "\n",
    "5)If Card Debt is more then there is more possibility of being a defaulter.\n",
    "\n",
    "6)If Other Debt is more then also there is more possibility of being a defaulter.\n",
    "\n",
    "7)If Debt to Income ratio is more then there is more probabilty that customer could be defaulter.\n",
    "\n",
    "8)Also the heatmap shows that Card Debt, Other Debt and Debt Income Ratio are highly correlated to Defaulter.It means that the if Card Debt,Other Debt and Debt Income Ratio are more then there is more probability the customer could be a defaulter,whereas income of customer does not affect of customer being a defaulter."
   ]
  },
  {
   "cell_type": "markdown",
   "id": "1dd792e0",
   "metadata": {},
   "source": [
    "#            Filling the missing values"
   ]
  },
  {
   "cell_type": "code",
   "execution_count": 19,
   "id": "aed4b0eb",
   "metadata": {},
   "outputs": [],
   "source": [
    "def defaulter(cols):\n",
    "    Defaulted=cols[0]\n",
    "    Years_Employed=cols[1]\n",
    "    Card_Debt=cols[2]\n",
    "    Other_Debt=cols[3]\n",
    "    DebtIncomeRatio=cols[4]\n",
    "    \n",
    "    if pd.isnull(Defaulted):\n",
    "        if Years_Employed<6 or Card_Debt>1.5 or Other_Debt>3 or DebtIncomeRatio>10:\n",
    "            return 1\n",
    "        else:\n",
    "            return 0\n",
    "    else:\n",
    "        Defaulted"
   ]
  },
  {
   "cell_type": "code",
   "execution_count": 20,
   "id": "3498fd3b",
   "metadata": {},
   "outputs": [],
   "source": [
    "a1['Defaulted'].fillna(value=a1[['Defaulted','Years Employed','Card Debt','Other Debt','DebtIncomeRatio']].apply(defaulter,axis=1),inplace=True)"
   ]
  },
  {
   "cell_type": "code",
   "execution_count": 21,
   "id": "13188ba7",
   "metadata": {},
   "outputs": [
    {
     "data": {
      "text/html": [
       "<div>\n",
       "<style scoped>\n",
       "    .dataframe tbody tr th:only-of-type {\n",
       "        vertical-align: middle;\n",
       "    }\n",
       "\n",
       "    .dataframe tbody tr th {\n",
       "        vertical-align: top;\n",
       "    }\n",
       "\n",
       "    .dataframe thead th {\n",
       "        text-align: right;\n",
       "    }\n",
       "</style>\n",
       "<table border=\"1\" class=\"dataframe\">\n",
       "  <thead>\n",
       "    <tr style=\"text-align: right;\">\n",
       "      <th></th>\n",
       "      <th>Age</th>\n",
       "      <th>Edu</th>\n",
       "      <th>Years Employed</th>\n",
       "      <th>Income</th>\n",
       "      <th>Card Debt</th>\n",
       "      <th>Other Debt</th>\n",
       "      <th>Defaulted</th>\n",
       "      <th>DebtIncomeRatio</th>\n",
       "    </tr>\n",
       "  </thead>\n",
       "  <tbody>\n",
       "    <tr>\n",
       "      <th>0</th>\n",
       "      <td>41</td>\n",
       "      <td>2</td>\n",
       "      <td>6</td>\n",
       "      <td>19</td>\n",
       "      <td>0.124</td>\n",
       "      <td>1.073</td>\n",
       "      <td>0.0</td>\n",
       "      <td>6.3</td>\n",
       "    </tr>\n",
       "    <tr>\n",
       "      <th>1</th>\n",
       "      <td>47</td>\n",
       "      <td>1</td>\n",
       "      <td>26</td>\n",
       "      <td>100</td>\n",
       "      <td>4.582</td>\n",
       "      <td>8.218</td>\n",
       "      <td>0.0</td>\n",
       "      <td>12.8</td>\n",
       "    </tr>\n",
       "    <tr>\n",
       "      <th>2</th>\n",
       "      <td>33</td>\n",
       "      <td>2</td>\n",
       "      <td>10</td>\n",
       "      <td>57</td>\n",
       "      <td>6.111</td>\n",
       "      <td>5.802</td>\n",
       "      <td>1.0</td>\n",
       "      <td>20.9</td>\n",
       "    </tr>\n",
       "    <tr>\n",
       "      <th>3</th>\n",
       "      <td>29</td>\n",
       "      <td>2</td>\n",
       "      <td>4</td>\n",
       "      <td>19</td>\n",
       "      <td>0.681</td>\n",
       "      <td>0.516</td>\n",
       "      <td>0.0</td>\n",
       "      <td>6.3</td>\n",
       "    </tr>\n",
       "    <tr>\n",
       "      <th>4</th>\n",
       "      <td>47</td>\n",
       "      <td>1</td>\n",
       "      <td>31</td>\n",
       "      <td>253</td>\n",
       "      <td>9.308</td>\n",
       "      <td>8.908</td>\n",
       "      <td>0.0</td>\n",
       "      <td>7.2</td>\n",
       "    </tr>\n",
       "    <tr>\n",
       "      <th>...</th>\n",
       "      <td>...</td>\n",
       "      <td>...</td>\n",
       "      <td>...</td>\n",
       "      <td>...</td>\n",
       "      <td>...</td>\n",
       "      <td>...</td>\n",
       "      <td>...</td>\n",
       "      <td>...</td>\n",
       "    </tr>\n",
       "    <tr>\n",
       "      <th>845</th>\n",
       "      <td>27</td>\n",
       "      <td>1</td>\n",
       "      <td>5</td>\n",
       "      <td>26</td>\n",
       "      <td>0.548</td>\n",
       "      <td>1.220</td>\n",
       "      <td>1.0</td>\n",
       "      <td>6.8</td>\n",
       "    </tr>\n",
       "    <tr>\n",
       "      <th>846</th>\n",
       "      <td>28</td>\n",
       "      <td>2</td>\n",
       "      <td>7</td>\n",
       "      <td>34</td>\n",
       "      <td>0.359</td>\n",
       "      <td>2.021</td>\n",
       "      <td>0.0</td>\n",
       "      <td>7.0</td>\n",
       "    </tr>\n",
       "    <tr>\n",
       "      <th>847</th>\n",
       "      <td>25</td>\n",
       "      <td>4</td>\n",
       "      <td>0</td>\n",
       "      <td>18</td>\n",
       "      <td>2.802</td>\n",
       "      <td>3.210</td>\n",
       "      <td>1.0</td>\n",
       "      <td>33.4</td>\n",
       "    </tr>\n",
       "    <tr>\n",
       "      <th>848</th>\n",
       "      <td>32</td>\n",
       "      <td>1</td>\n",
       "      <td>12</td>\n",
       "      <td>28</td>\n",
       "      <td>0.116</td>\n",
       "      <td>0.696</td>\n",
       "      <td>0.0</td>\n",
       "      <td>2.9</td>\n",
       "    </tr>\n",
       "    <tr>\n",
       "      <th>849</th>\n",
       "      <td>52</td>\n",
       "      <td>1</td>\n",
       "      <td>16</td>\n",
       "      <td>64</td>\n",
       "      <td>1.866</td>\n",
       "      <td>3.638</td>\n",
       "      <td>0.0</td>\n",
       "      <td>8.6</td>\n",
       "    </tr>\n",
       "  </tbody>\n",
       "</table>\n",
       "<p>850 rows × 8 columns</p>\n",
       "</div>"
      ],
      "text/plain": [
       "     Age  Edu  Years Employed  Income  Card Debt  Other Debt  Defaulted  \\\n",
       "0     41    2               6      19      0.124       1.073        0.0   \n",
       "1     47    1              26     100      4.582       8.218        0.0   \n",
       "2     33    2              10      57      6.111       5.802        1.0   \n",
       "3     29    2               4      19      0.681       0.516        0.0   \n",
       "4     47    1              31     253      9.308       8.908        0.0   \n",
       "..   ...  ...             ...     ...        ...         ...        ...   \n",
       "845   27    1               5      26      0.548       1.220        1.0   \n",
       "846   28    2               7      34      0.359       2.021        0.0   \n",
       "847   25    4               0      18      2.802       3.210        1.0   \n",
       "848   32    1              12      28      0.116       0.696        0.0   \n",
       "849   52    1              16      64      1.866       3.638        0.0   \n",
       "\n",
       "     DebtIncomeRatio  \n",
       "0                6.3  \n",
       "1               12.8  \n",
       "2               20.9  \n",
       "3                6.3  \n",
       "4                7.2  \n",
       "..               ...  \n",
       "845              6.8  \n",
       "846              7.0  \n",
       "847             33.4  \n",
       "848              2.9  \n",
       "849              8.6  \n",
       "\n",
       "[850 rows x 8 columns]"
      ]
     },
     "execution_count": 21,
     "metadata": {},
     "output_type": "execute_result"
    }
   ],
   "source": [
    "a1"
   ]
  },
  {
   "cell_type": "code",
   "execution_count": 22,
   "id": "5806a456",
   "metadata": {},
   "outputs": [
    {
     "data": {
      "text/plain": [
       "Age                0\n",
       "Edu                0\n",
       "Years Employed     0\n",
       "Income             0\n",
       "Card Debt          0\n",
       "Other Debt         0\n",
       "Defaulted          0\n",
       "DebtIncomeRatio    0\n",
       "dtype: int64"
      ]
     },
     "execution_count": 22,
     "metadata": {},
     "output_type": "execute_result"
    }
   ],
   "source": [
    "a1.isnull().sum()"
   ]
  },
  {
   "cell_type": "markdown",
   "id": "cc204d46",
   "metadata": {},
   "source": [
    "#            ML model deployment"
   ]
  },
  {
   "cell_type": "code",
   "execution_count": 23,
   "id": "acd5633d",
   "metadata": {},
   "outputs": [
    {
     "data": {
      "text/html": [
       "<div>\n",
       "<style scoped>\n",
       "    .dataframe tbody tr th:only-of-type {\n",
       "        vertical-align: middle;\n",
       "    }\n",
       "\n",
       "    .dataframe tbody tr th {\n",
       "        vertical-align: top;\n",
       "    }\n",
       "\n",
       "    .dataframe thead th {\n",
       "        text-align: right;\n",
       "    }\n",
       "</style>\n",
       "<table border=\"1\" class=\"dataframe\">\n",
       "  <thead>\n",
       "    <tr style=\"text-align: right;\">\n",
       "      <th></th>\n",
       "      <th>Age</th>\n",
       "      <th>Edu</th>\n",
       "      <th>Years Employed</th>\n",
       "      <th>Income</th>\n",
       "      <th>Card Debt</th>\n",
       "      <th>Other Debt</th>\n",
       "      <th>Defaulted</th>\n",
       "      <th>DebtIncomeRatio</th>\n",
       "    </tr>\n",
       "  </thead>\n",
       "  <tbody>\n",
       "    <tr>\n",
       "      <th>0</th>\n",
       "      <td>41</td>\n",
       "      <td>2</td>\n",
       "      <td>6</td>\n",
       "      <td>19</td>\n",
       "      <td>0.124</td>\n",
       "      <td>1.073</td>\n",
       "      <td>0.0</td>\n",
       "      <td>6.3</td>\n",
       "    </tr>\n",
       "    <tr>\n",
       "      <th>1</th>\n",
       "      <td>47</td>\n",
       "      <td>1</td>\n",
       "      <td>26</td>\n",
       "      <td>100</td>\n",
       "      <td>4.582</td>\n",
       "      <td>8.218</td>\n",
       "      <td>0.0</td>\n",
       "      <td>12.8</td>\n",
       "    </tr>\n",
       "    <tr>\n",
       "      <th>2</th>\n",
       "      <td>33</td>\n",
       "      <td>2</td>\n",
       "      <td>10</td>\n",
       "      <td>57</td>\n",
       "      <td>6.111</td>\n",
       "      <td>5.802</td>\n",
       "      <td>1.0</td>\n",
       "      <td>20.9</td>\n",
       "    </tr>\n",
       "    <tr>\n",
       "      <th>3</th>\n",
       "      <td>29</td>\n",
       "      <td>2</td>\n",
       "      <td>4</td>\n",
       "      <td>19</td>\n",
       "      <td>0.681</td>\n",
       "      <td>0.516</td>\n",
       "      <td>0.0</td>\n",
       "      <td>6.3</td>\n",
       "    </tr>\n",
       "    <tr>\n",
       "      <th>4</th>\n",
       "      <td>47</td>\n",
       "      <td>1</td>\n",
       "      <td>31</td>\n",
       "      <td>253</td>\n",
       "      <td>9.308</td>\n",
       "      <td>8.908</td>\n",
       "      <td>0.0</td>\n",
       "      <td>7.2</td>\n",
       "    </tr>\n",
       "  </tbody>\n",
       "</table>\n",
       "</div>"
      ],
      "text/plain": [
       "   Age  Edu  Years Employed  Income  Card Debt  Other Debt  Defaulted  \\\n",
       "0   41    2               6      19      0.124       1.073        0.0   \n",
       "1   47    1              26     100      4.582       8.218        0.0   \n",
       "2   33    2              10      57      6.111       5.802        1.0   \n",
       "3   29    2               4      19      0.681       0.516        0.0   \n",
       "4   47    1              31     253      9.308       8.908        0.0   \n",
       "\n",
       "   DebtIncomeRatio  \n",
       "0              6.3  \n",
       "1             12.8  \n",
       "2             20.9  \n",
       "3              6.3  \n",
       "4              7.2  "
      ]
     },
     "execution_count": 23,
     "metadata": {},
     "output_type": "execute_result"
    }
   ],
   "source": [
    "a1.head()"
   ]
  },
  {
   "cell_type": "markdown",
   "id": "1e927068",
   "metadata": {},
   "source": [
    "        Assigning the dependent, targeted features and independent features"
   ]
  },
  {
   "cell_type": "code",
   "execution_count": 24,
   "id": "956ae027",
   "metadata": {},
   "outputs": [],
   "source": [
    "X=a1.iloc[:,[0,1,2,3,4,5,7]].values\n",
    "y=a1.iloc[:,[6]].values"
   ]
  },
  {
   "cell_type": "markdown",
   "id": "74f02598",
   "metadata": {},
   "source": [
    "      Splitting the data into train and test data"
   ]
  },
  {
   "cell_type": "code",
   "execution_count": 25,
   "id": "d44e3134",
   "metadata": {},
   "outputs": [],
   "source": [
    "from sklearn.model_selection import train_test_split\n",
    "X_train,X_test,y_train,y_test=train_test_split(X,y,random_state=0)"
   ]
  },
  {
   "cell_type": "markdown",
   "id": "1a4bda96",
   "metadata": {},
   "source": [
    "    Scaling the features.i.e. Standardization."
   ]
  },
  {
   "cell_type": "code",
   "execution_count": 26,
   "id": "e3ab00d8",
   "metadata": {},
   "outputs": [],
   "source": [
    "from sklearn.preprocessing import StandardScaler\n",
    "sc=StandardScaler()\n",
    "X_train=sc.fit_transform(X_train)\n",
    "X_test=sc.transform(X_test)"
   ]
  },
  {
   "cell_type": "markdown",
   "id": "f589fff8",
   "metadata": {},
   "source": [
    "#    Using Logistic Regression"
   ]
  },
  {
   "cell_type": "markdown",
   "id": "0801b5ec",
   "metadata": {},
   "source": [
    "    Importing the module"
   ]
  },
  {
   "cell_type": "code",
   "execution_count": 27,
   "id": "3160e1bc",
   "metadata": {},
   "outputs": [],
   "source": [
    "from sklearn.linear_model import LogisticRegression\n",
    "from sklearn import metrics"
   ]
  },
  {
   "cell_type": "markdown",
   "id": "946057b2",
   "metadata": {},
   "source": [
    "    Fitting the data"
   ]
  },
  {
   "cell_type": "code",
   "execution_count": 28,
   "id": "8dedbbc5",
   "metadata": {},
   "outputs": [
    {
     "data": {
      "text/plain": [
       "LogisticRegression(random_state=0)"
      ]
     },
     "execution_count": 28,
     "metadata": {},
     "output_type": "execute_result"
    }
   ],
   "source": [
    "lg=LogisticRegression(random_state=0)\n",
    "lg.fit(X_train,y_train)"
   ]
  },
  {
   "cell_type": "markdown",
   "id": "b8daa512",
   "metadata": {},
   "source": [
    "    Making the predictions"
   ]
  },
  {
   "cell_type": "code",
   "execution_count": 29,
   "id": "2b49a9f6",
   "metadata": {},
   "outputs": [],
   "source": [
    "y_pred=lg.predict(X_test)"
   ]
  },
  {
   "cell_type": "code",
   "execution_count": 30,
   "id": "2b4184cb",
   "metadata": {},
   "outputs": [
    {
     "name": "stdout",
     "output_type": "stream",
     "text": [
      "RMSE 0.5395181296365978\n"
     ]
    }
   ],
   "source": [
    "print(\"RMSE\",np.sqrt(metrics.mean_squared_error(y_test,y_pred)))"
   ]
  },
  {
   "cell_type": "code",
   "execution_count": 31,
   "id": "8b3481ab",
   "metadata": {},
   "outputs": [
    {
     "name": "stdout",
     "output_type": "stream",
     "text": [
      "Accuracy= 0.7089201877934272\n"
     ]
    }
   ],
   "source": [
    "print(\"Accuracy=\",metrics.accuracy_score(y_test,y_pred))"
   ]
  },
  {
   "cell_type": "markdown",
   "id": "55bd4697",
   "metadata": {},
   "source": [
    "#      Using Random Forest"
   ]
  },
  {
   "cell_type": "markdown",
   "id": "2389ac1d",
   "metadata": {},
   "source": [
    "    Importing module and fitting the dataset"
   ]
  },
  {
   "cell_type": "code",
   "execution_count": 32,
   "id": "dae06f1e",
   "metadata": {},
   "outputs": [
    {
     "data": {
      "text/plain": [
       "RandomForestClassifier(random_state=0)"
      ]
     },
     "execution_count": 32,
     "metadata": {},
     "output_type": "execute_result"
    }
   ],
   "source": [
    "from sklearn.ensemble import RandomForestClassifier\n",
    "rgs=RandomForestClassifier(random_state=0)\n",
    "rgs.fit(X_train,y_train)"
   ]
  },
  {
   "cell_type": "markdown",
   "id": "5989740a",
   "metadata": {},
   "source": [
    "    Making predictions"
   ]
  },
  {
   "cell_type": "code",
   "execution_count": 33,
   "id": "a40ff7bb",
   "metadata": {},
   "outputs": [],
   "source": [
    "y_pre=rgs.predict(X_test)"
   ]
  },
  {
   "cell_type": "code",
   "execution_count": 34,
   "id": "918eb078",
   "metadata": {},
   "outputs": [
    {
     "name": "stdout",
     "output_type": "stream",
     "text": [
      "RMSE= 0.5650210848199205\n"
     ]
    }
   ],
   "source": [
    "print(\"RMSE=\",np.sqrt(metrics.mean_squared_error(y_test,y_pre)))"
   ]
  },
  {
   "cell_type": "code",
   "execution_count": 35,
   "id": "3336c605",
   "metadata": {},
   "outputs": [
    {
     "name": "stdout",
     "output_type": "stream",
     "text": [
      "Accuracy= 0.6807511737089202\n"
     ]
    }
   ],
   "source": [
    "print(\"Accuracy=\",metrics.accuracy_score(y_test,y_pre))"
   ]
  },
  {
   "cell_type": "markdown",
   "id": "fe69dad4",
   "metadata": {},
   "source": [
    "#    Using K Nearest Neighbors"
   ]
  },
  {
   "cell_type": "markdown",
   "id": "a9b7d603",
   "metadata": {},
   "source": [
    "    Importing the module"
   ]
  },
  {
   "cell_type": "code",
   "execution_count": 36,
   "id": "eb115cc7",
   "metadata": {},
   "outputs": [],
   "source": [
    "from sklearn.neighbors import KNeighborsClassifier"
   ]
  },
  {
   "cell_type": "markdown",
   "id": "f1e117ec",
   "metadata": {},
   "source": [
    "    Fitting the dataset"
   ]
  },
  {
   "cell_type": "code",
   "execution_count": 37,
   "id": "0273ae35",
   "metadata": {},
   "outputs": [
    {
     "data": {
      "text/plain": [
       "KNeighborsClassifier()"
      ]
     },
     "execution_count": 37,
     "metadata": {},
     "output_type": "execute_result"
    }
   ],
   "source": [
    "cls=KNeighborsClassifier(n_neighbors=5,metric='minkowski',p=2)\n",
    "cls.fit(X_train,y_train)"
   ]
  },
  {
   "cell_type": "markdown",
   "id": "92b6c0b2",
   "metadata": {},
   "source": [
    "    Making predictions"
   ]
  },
  {
   "cell_type": "code",
   "execution_count": 38,
   "id": "1e972bef",
   "metadata": {},
   "outputs": [],
   "source": [
    "y_prd=cls.predict(X_test)"
   ]
  },
  {
   "cell_type": "code",
   "execution_count": 39,
   "id": "d081e0c2",
   "metadata": {},
   "outputs": [
    {
     "name": "stdout",
     "output_type": "stream",
     "text": [
      "RMSE= 0.5608511305242494\n"
     ]
    }
   ],
   "source": [
    "print(\"RMSE=\",np.sqrt(metrics.mean_squared_error(y_test,y_prd)))"
   ]
  },
  {
   "cell_type": "code",
   "execution_count": 40,
   "id": "0a77c727",
   "metadata": {},
   "outputs": [
    {
     "name": "stdout",
     "output_type": "stream",
     "text": [
      "Accuracy= 0.6854460093896714\n"
     ]
    }
   ],
   "source": [
    "print(\"Accuracy=\",metrics.accuracy_score(y_test,y_prd))"
   ]
  },
  {
   "cell_type": "markdown",
   "id": "14e599c2",
   "metadata": {},
   "source": [
    "Conclusion\n",
    "\n",
    "1)All the main conclusions are drawn under the Graphs and it's conclusion section.\n",
    "\n",
    "2)For prediction purspose, I have used three modules:-1)Logistic Regression 2)Random Forest and 3)K Nearest Neighbors. The outcome of which that Logistic Regression module gives the highest accuracy with 70.89% which i consider good and fit to make further predictions."
   ]
  }
 ],
 "metadata": {
  "kernelspec": {
   "display_name": "Python 3 (ipykernel)",
   "language": "python",
   "name": "python3"
  },
  "language_info": {
   "codemirror_mode": {
    "name": "ipython",
    "version": 3
   },
   "file_extension": ".py",
   "mimetype": "text/x-python",
   "name": "python",
   "nbconvert_exporter": "python",
   "pygments_lexer": "ipython3",
   "version": "3.9.13"
  }
 },
 "nbformat": 4,
 "nbformat_minor": 5
}
